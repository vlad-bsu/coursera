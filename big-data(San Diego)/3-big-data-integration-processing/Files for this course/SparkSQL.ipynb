{
 "metadata": {
  "kernelspec": {
   "display_name": "Python 3",
   "language": "python",
   "name": "python3"
  },
  "language_info": {
   "codemirror_mode": {
    "name": "ipython",
    "version": 3
   },
   "file_extension": ".py",
   "mimetype": "text/x-python",
   "name": "python",
   "nbconvert_exporter": "python",
   "pygments_lexer": "ipython3",
   "version": "3.5.1"
  },
  "name": "",
  "signature": "sha256:5ac3d7ecc28f14af7dab779e9dc0fadbf75e876849e589cbf967212bf315cb0e"
 },
 "nbformat": 3,
 "nbformat_minor": 0,
 "worksheets": [
  {
   "cells": [
    {
     "cell_type": "code",
     "collapsed": true,
     "input": [
      "from pyspark.sql import SQLContext\n",
      "from pyspark import SparkContext"
     ],
     "language": "python",
     "metadata": {},
     "outputs": [],
     "prompt_number": 1
    },
    {
     "cell_type": "code",
     "collapsed": true,
     "input": [
      "sc =SparkContext()\n",
      "sqlsc = SQLContext(sc)"
     ],
     "language": "python",
     "metadata": {},
     "outputs": [],
     "prompt_number": 2
    },
    {
     "cell_type": "code",
     "collapsed": false,
     "input": [
      "df.printSchema()"
     ],
     "language": "python",
     "metadata": {
      "scrolled": true
     },
     "outputs": [
      {
       "output_type": "stream",
       "stream": "stdout",
       "text": [
        "root\n",
        " |-- timestamp: timestamp (nullable = false)\n",
        " |-- clickid: integer (nullable = false)\n",
        " |-- userid: integer (nullable = false)\n",
        " |-- usersessionid: integer (nullable = false)\n",
        " |-- ishit: integer (nullable = false)\n",
        " |-- teamid: integer (nullable = false)\n",
        " |-- teamlevel: integer (nullable = false)\n",
        "\n"
       ]
      }
     ],
     "prompt_number": 4
    },
    {
     "cell_type": "code",
     "collapsed": false,
     "input": [
      "df.count()"
     ],
     "language": "python",
     "metadata": {},
     "outputs": [
      {
       "metadata": {},
       "output_type": "pyout",
       "prompt_number": 5,
       "text": [
        "755806"
       ]
      }
     ],
     "prompt_number": 5
    },
    {
     "cell_type": "code",
     "collapsed": false,
     "input": [
      "df.show(5)"
     ],
     "language": "python",
     "metadata": {},
     "outputs": [
      {
       "output_type": "stream",
       "stream": "stdout",
       "text": [
        "+--------------------+-------+------+-------------+-----+------+---------+\n",
        "|           timestamp|clickid|userid|usersessionid|ishit|teamid|teamlevel|\n",
        "+--------------------+-------+------+-------------+-----+------+---------+\n",
        "|2016-05-26 15:06:...|    105|  1038|         5916|    0|    25|        1|\n",
        "|2016-05-26 15:07:...|    154|  1099|         5898|    0|    44|        1|\n",
        "|2016-05-26 15:07:...|    229|   899|         5757|    0|    71|        1|\n",
        "|2016-05-26 15:07:...|    322|  2197|         5854|    0|    99|        1|\n",
        "|2016-05-26 15:07:...|     22|  1362|         5739|    0|    13|        1|\n",
        "+--------------------+-------+------+-------------+-----+------+---------+\n",
        "only showing top 5 rows\n",
        "\n"
       ]
      }
     ],
     "prompt_number": 6
    },
    {
     "cell_type": "code",
     "collapsed": false,
     "input": [
      "df.select(\"userid\", \"teamlevel\").show(5)"
     ],
     "language": "python",
     "metadata": {},
     "outputs": [
      {
       "output_type": "stream",
       "stream": "stdout",
       "text": [
        "+------+---------+\n",
        "|userid|teamlevel|\n",
        "+------+---------+\n",
        "|  1038|        1|\n",
        "|  1099|        1|\n",
        "|   899|        1|\n",
        "|  2197|        1|\n",
        "|  1362|        1|\n",
        "+------+---------+\n",
        "only showing top 5 rows\n",
        "\n"
       ]
      }
     ],
     "prompt_number": 7
    },
    {
     "cell_type": "code",
     "collapsed": false,
     "input": [
      "df.filter(df[\"teamlevel\"] > 1).select(\"userid\", \"teamlevel\").show(5)"
     ],
     "language": "python",
     "metadata": {},
     "outputs": [
      {
       "output_type": "stream",
       "stream": "stdout",
       "text": [
        "+------+---------+\n",
        "|userid|teamlevel|\n",
        "+------+---------+\n",
        "|  1513|        2|\n",
        "|   868|        2|\n",
        "|  1453|        2|\n",
        "|  1282|        2|\n",
        "|  1473|        2|\n",
        "+------+---------+\n",
        "only showing top 5 rows\n",
        "\n"
       ]
      }
     ],
     "prompt_number": 8
    },
    {
     "cell_type": "code",
     "collapsed": false,
     "input": [
      "df.groupBy(\"ishit\").count().show()"
     ],
     "language": "python",
     "metadata": {},
     "outputs": [
      {
       "output_type": "stream",
       "stream": "stdout",
       "text": [
        "+-----+------+\n",
        "|ishit| count|\n",
        "+-----+------+\n",
        "|    0|672423|\n",
        "|    1| 83383|\n",
        "+-----+------+\n",
        "\n"
       ]
      }
     ],
     "prompt_number": 9
    },
    {
     "cell_type": "code",
     "collapsed": false,
     "input": [
      "from pyspark.sql.functions import *\n",
      "df.select(mean('ishit'), sum('ishit')).show()\n"
     ],
     "language": "python",
     "metadata": {},
     "outputs": [
      {
       "output_type": "stream",
       "stream": "stdout",
       "text": [
        "+------------------+----------+\n",
        "|        avg(ishit)|sum(ishit)|\n",
        "+------------------+----------+\n",
        "|0.1103232840173272|     83383|\n",
        "+------------------+----------+\n",
        "\n"
       ]
      }
     ],
     "prompt_number": 10
    },
    {
     "cell_type": "code",
     "collapsed": true,
     "input": [
      "df2 = sqlsc.read.format(\"jdbc\") \\\n",
      "  .option(\"url\", \"jdbc:postgresql://localhost/cloudera?user=cloudera\") \\\n",
      "  .option(\"dbtable\", \"adclicks\") \\\n",
      "  .load()"
     ],
     "language": "python",
     "metadata": {},
     "outputs": [],
     "prompt_number": 11
    },
    {
     "cell_type": "code",
     "collapsed": false,
     "input": [
      "df2.printSchema()"
     ],
     "language": "python",
     "metadata": {},
     "outputs": [
      {
       "output_type": "stream",
       "stream": "stdout",
       "text": [
        "root\n",
        " |-- timestamp: timestamp (nullable = false)\n",
        " |-- txid: integer (nullable = false)\n",
        " |-- usersessionid: integer (nullable = false)\n",
        " |-- teamid: integer (nullable = false)\n",
        " |-- userid: integer (nullable = false)\n",
        " |-- adid: integer (nullable = false)\n",
        " |-- adcategory: string (nullable = false)\n",
        "\n"
       ]
      }
     ],
     "prompt_number": 12
    },
    {
     "cell_type": "code",
     "collapsed": true,
     "input": [
      "merge = df.join(df2, 'userid')"
     ],
     "language": "python",
     "metadata": {},
     "outputs": [],
     "prompt_number": 13
    },
    {
     "cell_type": "code",
     "collapsed": false,
     "input": [
      "merge.printSchema()"
     ],
     "language": "python",
     "metadata": {
      "scrolled": true
     },
     "outputs": [
      {
       "output_type": "stream",
       "stream": "stdout",
       "text": [
        "root\n",
        " |-- userid: integer (nullable = false)\n",
        " |-- timestamp: timestamp (nullable = false)\n",
        " |-- clickid: integer (nullable = false)\n",
        " |-- usersessionid: integer (nullable = false)\n",
        " |-- ishit: integer (nullable = false)\n",
        " |-- teamid: integer (nullable = false)\n",
        " |-- teamlevel: integer (nullable = false)\n",
        " |-- timestamp: timestamp (nullable = false)\n",
        " |-- txid: integer (nullable = false)\n",
        " |-- usersessionid: integer (nullable = false)\n",
        " |-- teamid: integer (nullable = false)\n",
        " |-- adid: integer (nullable = false)\n",
        " |-- adcategory: string (nullable = false)\n",
        "\n"
       ]
      }
     ],
     "prompt_number": 14
    },
    {
     "cell_type": "code",
     "collapsed": false,
     "input": [
      "merge.show(5)"
     ],
     "language": "python",
     "metadata": {},
     "outputs": [
      {
       "output_type": "stream",
       "stream": "stdout",
       "text": [
        "+------+--------------------+-------+-------------+-----+------+---------+--------------------+-----+-------------+------+----+----------+\n",
        "|userid|           timestamp|clickid|usersessionid|ishit|teamid|teamlevel|           timestamp| txid|usersessionid|teamid|adid|adcategory|\n",
        "+------+--------------------+-------+-------------+-----+------+---------+--------------------+-----+-------------+------+----+----------+\n",
        "|   231|2016-06-08 00:45:...| 376796|        23626|    0|   142|        4|2016-06-08 01:40:...|23669|        23626|   142|  27|     games|\n",
        "|   231|2016-06-08 00:45:...| 376796|        23626|    0|   142|        4|2016-06-08 09:24:...|24122|        23626|   142|   4|     games|\n",
        "|   231|2016-06-08 00:45:...| 376796|        23626|    0|   142|        4|2016-06-08 17:21:...|24659|        23626|   142|  22| computers|\n",
        "|   231|2016-06-08 00:45:...| 376796|        23626|    0|   142|        4|2016-06-08 23:34:...|25076|        23626|   142|  21|    movies|\n",
        "|   231|2016-06-08 00:45:...| 376796|        23626|    0|   142|        4|2016-06-09 16:32:...|26220|        23626|   142|  16|  clothing|\n",
        "+------+--------------------+-------+-------------+-----+------+---------+--------------------+-----+-------------+------+----+----------+\n",
        "only showing top 5 rows\n",
        "\n"
       ]
      }
     ],
     "prompt_number": 15
    },
    {
     "cell_type": "code",
     "collapsed": true,
     "input": [],
     "language": "python",
     "metadata": {},
     "outputs": [],
     "prompt_number": null
    }
   ],
   "metadata": {}
  }
 ]
}