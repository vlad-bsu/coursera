{
 "metadata": {
  "kernelspec": {
   "display_name": "Python 3",
   "language": "python",
   "name": "python3"
  },
  "language_info": {
   "codemirror_mode": {
    "name": "ipython",
    "version": 3
   },
   "file_extension": ".py",
   "mimetype": "text/x-python",
   "name": "python",
   "nbconvert_exporter": "python",
   "pygments_lexer": "ipython3",
   "version": "3.5.1"
  },
  "name": "",
  "signature": "sha256:09320145497ca79aaaef4f9bd626d8b20ffcbc31064a65719cfd7e3ff3884376"
 },
 "nbformat": 3,
 "nbformat_minor": 0,
 "worksheets": [
  {
   "cells": [
    {
     "cell_type": "code",
     "collapsed": false,
     "input": [
      "# Parse a line of weather station data, returning the average wind direction measurement \n",
      "#\n",
      "import re\n",
      "def parse(line):\n",
      "    match = re.search(\"Dm=(\\d+)\", line)\n",
      "    if match:\n",
      "        val = match.group(1)\n",
      "        return [int(val)]\n",
      "    return []"
     ],
     "language": "python",
     "metadata": {},
     "outputs": [],
     "prompt_number": 1
    },
    {
     "cell_type": "code",
     "collapsed": true,
     "input": [
      "from pyspark.streaming import StreamingContext\n",
      "from pyspark import SparkContext\n",
      "sc = SparkContext()\n",
      "ssc = StreamingContext(sc,1)"
     ],
     "language": "python",
     "metadata": {},
     "outputs": [],
     "prompt_number": 3
    },
    {
     "cell_type": "code",
     "collapsed": true,
     "input": [
      "lines = ssc.socketTextStream(\"rtd.hpwren.ucsd.edu\", 12028)"
     ],
     "language": "python",
     "metadata": {},
     "outputs": [],
     "prompt_number": 4
    },
    {
     "cell_type": "code",
     "collapsed": false,
     "input": [
      "vals = lines.flatMap(parse)"
     ],
     "language": "python",
     "metadata": {},
     "outputs": [],
     "prompt_number": 5
    },
    {
     "cell_type": "code",
     "collapsed": true,
     "input": [
      "window = vals.window(10, 5)"
     ],
     "language": "python",
     "metadata": {},
     "outputs": [],
     "prompt_number": 6
    },
    {
     "cell_type": "code",
     "collapsed": false,
     "input": [
      "def stats(rdd):\n",
      "    print(rdd.collect())\n",
      "    if rdd.count() > 0:\n",
      "        print(\"max = {}, min = {}\".format(rdd.max(), rdd.min()))"
     ],
     "language": "python",
     "metadata": {
      "scrolled": true
     },
     "outputs": [],
     "prompt_number": 7
    },
    {
     "cell_type": "code",
     "collapsed": false,
     "input": [
      "window.foreachRDD(lambda rdd: stats(rdd))"
     ],
     "language": "python",
     "metadata": {},
     "outputs": [],
     "prompt_number": 8
    },
    {
     "cell_type": "code",
     "collapsed": false,
     "input": [
      "ssc.start()"
     ],
     "language": "python",
     "metadata": {
      "scrolled": true
     },
     "outputs": [
      {
       "output_type": "stream",
       "stream": "stdout",
       "text": [
        "[134, 134, 133]\n",
        "max = 134, min = 133\n"
       ]
      },
      {
       "output_type": "stream",
       "stream": "stdout",
       "text": [
        "[134, 134, 133, 133, 133, 138, 138, 138]\n",
        "max = 138, min = 133\n"
       ]
      },
      {
       "output_type": "stream",
       "stream": "stdout",
       "text": [
        "[133, 133, 138, 138, 138, 138, 142, 142, 142, 142]\n",
        "max = 142, min = 133\n"
       ]
      },
      {
       "output_type": "stream",
       "stream": "stdout",
       "text": [
        "[138, 142, 142, 142, 142, 142, 142, 143, 143, 143]\n",
        "max = 143, min = 138\n"
       ]
      },
      {
       "output_type": "stream",
       "stream": "stdout",
       "text": [
        "[142, 142, 143, 143, 143, 143, 143, 143, 143, 145, 145]\n",
        "max = 145, min = 142\n"
       ]
      },
      {
       "output_type": "stream",
       "stream": "stdout",
       "text": [
        "[143, 143, 143, 143, 145, 145, 140, 140, 140, 140, 140]\n",
        "max = 145, min = 140\n"
       ]
      },
      {
       "output_type": "stream",
       "stream": "stdout",
       "text": [
        "[140, 140, 140, 140, 140, 140, 140, 136, 134, 134]\n",
        "max = 140, min = 134\n"
       ]
      },
      {
       "output_type": "stream",
       "stream": "stdout",
       "text": [
        "[140, 140, 136, 134, 134, 138, 138, 138, 134, 130]\n",
        "max = 140, min = 130\n"
       ]
      }
     ],
     "prompt_number": 9
    },
    {
     "cell_type": "code",
     "collapsed": false,
     "input": [
      "ssc.stop()"
     ],
     "language": "python",
     "metadata": {},
     "outputs": [],
     "prompt_number": 10
    },
    {
     "cell_type": "code",
     "collapsed": true,
     "input": [],
     "language": "python",
     "metadata": {},
     "outputs": [],
     "prompt_number": null
    }
   ],
   "metadata": {}
  }
 ]
}